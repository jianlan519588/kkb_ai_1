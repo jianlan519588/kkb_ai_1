{
 "cells": [
  {
   "cell_type": "code",
   "execution_count": 2,
   "metadata": {},
   "outputs": [],
   "source": [
    "coordination_source = \"\"\"\n",
    "{name:'兰州', geoCoord:[103.73, 36.03]},\n",
    "{name:'嘉峪关', geoCoord:[98.17, 39.47]},\n",
    "{name:'西宁', geoCoord:[101.74, 36.56]},\n",
    "{name:'成都', geoCoord:[104.06, 30.67]},\n",
    "{name:'石家庄', geoCoord:[114.48, 38.03]},\n",
    "{name:'拉萨', geoCoord:[102.73, 25.04]},\n",
    "{name:'贵阳', geoCoord:[106.71, 26.57]},\n",
    "{name:'武汉', geoCoord:[114.31, 30.52]},\n",
    "{name:'郑州', geoCoord:[113.65, 34.76]},\n",
    "{name:'济南', geoCoord:[117, 36.65]},\n",
    "{name:'南京', geoCoord:[118.78, 32.04]},\n",
    "{name:'合肥', geoCoord:[117.27, 31.86]},\n",
    "{name:'杭州', geoCoord:[120.19, 30.26]},\n",
    "{name:'南昌', geoCoord:[115.89, 28.68]},\n",
    "{name:'福州', geoCoord:[119.3, 26.08]},\n",
    "{name:'广州', geoCoord:[113.23, 23.16]},\n",
    "{name:'长沙', geoCoord:[113, 28.21]},\n",
    "//{name:'海口', geoCoord:[110.35, 20.02]},\n",
    "{name:'沈阳', geoCoord:[123.38, 41.8]},\n",
    "{name:'长春', geoCoord:[125.35, 43.88]},\n",
    "{name:'哈尔滨', geoCoord:[126.63, 45.75]},\n",
    "{name:'太原', geoCoord:[112.53, 37.87]},\n",
    "{name:'西安', geoCoord:[108.95, 34.27]},\n",
    "//{name:'台湾', geoCoord:[121.30, 25.03]},\n",
    "{name:'北京', geoCoord:[116.46, 39.92]},\n",
    "{name:'上海', geoCoord:[121.48, 31.22]},\n",
    "{name:'重庆', geoCoord:[106.54, 29.59]},\n",
    "{name:'天津', geoCoord:[117.2, 39.13]},\n",
    "{name:'呼和浩特', geoCoord:[111.65, 40.82]},\n",
    "{name:'南宁', geoCoord:[108.33, 22.84]},\n",
    "//{name:'西藏', geoCoord:[91.11, 29.97]},\n",
    "{name:'银川', geoCoord:[106.27, 38.47]},\n",
    "{name:'乌鲁木齐', geoCoord:[87.68, 43.77]},\n",
    "{name:'香港', geoCoord:[114.17, 22.28]},\n",
    "{name:'澳门', geoCoord:[113.54, 22.19]}\n",
    "\"\"\""
   ]
  },
  {
   "cell_type": "code",
   "execution_count": 8,
   "metadata": {},
   "outputs": [],
   "source": [
    "import re #引入python的re模块，正则表达式"
   ]
  },
  {
   "cell_type": "code",
   "execution_count": null,
   "metadata": {},
   "outputs": [],
   "source": []
  },
  {
   "cell_type": "code",
   "execution_count": 9,
   "metadata": {},
   "outputs": [],
   "source": [
    "l=\"color or colour\""
   ]
  },
  {
   "cell_type": "code",
   "execution_count": 11,
   "metadata": {},
   "outputs": [
    {
     "data": {
      "text/plain": [
       "['color', 'colour']"
      ]
     },
     "execution_count": 11,
     "metadata": {},
     "output_type": "execute_result"
    }
   ],
   "source": [
    "pattern = re.compile(\"colou?r\") #从compile()函数的定义中，可以看出返回的是一个匹配对象，它单独使用就没有任何意义，需要和findall(), search(), match(）搭配使用\n",
    "pattern.findall(l)"
   ]
  },
  {
   "cell_type": "code",
   "execution_count": null,
   "metadata": {},
   "outputs": [],
   "source": []
  },
  {
   "cell_type": "code",
   "execution_count": 16,
   "metadata": {},
   "outputs": [],
   "source": [
    "def get_city_info(city_coordination):\n",
    "    city_location={}\n",
    "    for line in city_coordination.split(\"\\n\"):\n",
    "        if line.startswith(\"//\"):continue\n",
    "        if line.strip()==\"\":continue\n",
    "        \n",
    "        city=re.findall(\"name:'(\\w+)'\",line)[0]\n",
    "        x_y = re.findall(\"Coord:\\[(\\d+.\\d+),\\s(\\d+.\\d+)\\]\",line)[0]\n",
    "        x_y=tuple(map(float,x_y))\n",
    "        city_location[city]=x_y\n",
    "        \n",
    "    return city_location"
   ]
  },
  {
   "cell_type": "code",
   "execution_count": 18,
   "metadata": {},
   "outputs": [],
   "source": [
    "city_info=get_city_info(coordination_source)"
   ]
  },
  {
   "cell_type": "code",
   "execution_count": 19,
   "metadata": {},
   "outputs": [
    {
     "data": {
      "text/plain": [
       "{'兰州': (103.73, 36.03),\n",
       " '嘉峪关': (98.17, 39.47),\n",
       " '西宁': (101.74, 36.56),\n",
       " '成都': (104.06, 30.67),\n",
       " '石家庄': (114.48, 38.03),\n",
       " '拉萨': (102.73, 25.04),\n",
       " '贵阳': (106.71, 26.57),\n",
       " '武汉': (114.31, 30.52),\n",
       " '郑州': (113.65, 34.76),\n",
       " '济南': (117.0, 36.65),\n",
       " '南京': (118.78, 32.04),\n",
       " '合肥': (117.27, 31.86),\n",
       " '杭州': (120.19, 30.26),\n",
       " '南昌': (115.89, 28.68),\n",
       " '福州': (119.3, 26.08),\n",
       " '广州': (113.23, 23.16),\n",
       " '长沙': (113.0, 28.21),\n",
       " '沈阳': (123.38, 41.8),\n",
       " '长春': (125.35, 43.88),\n",
       " '哈尔滨': (126.63, 45.75),\n",
       " '太原': (112.53, 37.87),\n",
       " '西安': (108.95, 34.27),\n",
       " '北京': (116.46, 39.92),\n",
       " '上海': (121.48, 31.22),\n",
       " '重庆': (106.54, 29.59),\n",
       " '天津': (117.2, 39.13),\n",
       " '呼和浩特': (111.65, 40.82),\n",
       " '南宁': (108.33, 22.84),\n",
       " '银川': (106.27, 38.47),\n",
       " '乌鲁木齐': (87.68, 43.77),\n",
       " '香港': (114.17, 22.28),\n",
       " '澳门': (113.54, 22.19)}"
      ]
     },
     "execution_count": 19,
     "metadata": {},
     "output_type": "execute_result"
    }
   ],
   "source": [
    "city_info"
   ]
  },
  {
   "cell_type": "code",
   "execution_count": 20,
   "metadata": {},
   "outputs": [],
   "source": [
    "###Compute distance between cities"
   ]
  },
  {
   "cell_type": "code",
   "execution_count": 21,
   "metadata": {},
   "outputs": [],
   "source": [
    "import math\n",
    "\n",
    "def geo_distance(origin, destination):\n",
    "    \"\"\"\n",
    "    Calculate the Haversine distance.\n",
    "\n",
    "    Parameters\n",
    "    ----------\n",
    "    origin : tuple of float\n",
    "        (lat, long)\n",
    "    destination : tuple of float\n",
    "        (lat, long)\n",
    "\n",
    "    Returns\n",
    "    -------\n",
    "    distance_in_km : float\n",
    "\n",
    "    Examples\n",
    "    --------\n",
    "    >>> origin = (48.1372, 11.5756)  # Munich\n",
    "    >>> destination = (52.5186, 13.4083)  # Berlin\n",
    "    >>> round(distance(origin, destination), 1)\n",
    "    504.2\n",
    "    \"\"\"\n",
    "    lat1, lon1 = origin\n",
    "    lat2, lon2 = destination\n",
    "    radius = 6371  # km\n",
    "\n",
    "    dlat = math.radians(lat2 - lat1)\n",
    "    dlon = math.radians(lon2 - lon1)\n",
    "    a = (math.sin(dlat / 2) * math.sin(dlat / 2) +\n",
    "         math.cos(math.radians(lat1)) * math.cos(math.radians(lat2)) *\n",
    "         math.sin(dlon / 2) * math.sin(dlon / 2))\n",
    "    c = 2 * math.atan2(math.sqrt(a), math.sqrt(1 - a))\n",
    "    d = radius * c\n",
    "\n",
    "    return d"
   ]
  },
  {
   "cell_type": "code",
   "execution_count": null,
   "metadata": {},
   "outputs": [],
   "source": []
  },
  {
   "cell_type": "code",
   "execution_count": 23,
   "metadata": {},
   "outputs": [],
   "source": [
    "#重新进行封装\n",
    "def get_city_distance(city1,city2):\n",
    "    return geo_distance(city_info[city1],city_info[city2])"
   ]
  },
  {
   "cell_type": "code",
   "execution_count": 24,
   "metadata": {},
   "outputs": [
    {
     "data": {
      "text/plain": [
       "727.52769688981"
      ]
     },
     "execution_count": 24,
     "metadata": {},
     "output_type": "execute_result"
    }
   ],
   "source": [
    "get_city_distance(\"上海\",\"北京\")"
   ]
  },
  {
   "cell_type": "code",
   "execution_count": null,
   "metadata": {},
   "outputs": [],
   "source": []
  },
  {
   "cell_type": "code",
   "execution_count": 25,
   "metadata": {},
   "outputs": [],
   "source": [
    "###Draw the graoh"
   ]
  },
  {
   "cell_type": "code",
   "execution_count": null,
   "metadata": {},
   "outputs": [],
   "source": []
  },
  {
   "cell_type": "code",
   "execution_count": 16,
   "metadata": {},
   "outputs": [],
   "source": [
    "import networkx as nx #NetworkX 主要用于创造、操作复杂网络，以及学习复杂网络的结构、动力学及其功能。用于分析网络结构，建立网络模型，设计新的网络算法，绘制网络等等\n",
    "import matplotlib.pyplot as plt #Matplotlib 是一个 Python 的 2D绘图库，它以各种硬拷贝格式和跨平台的交互式环境生成出版质量级别的图形\n",
    "\n",
    "plt.rcParams['font.sans-serif'] = ['SimHei']\n",
    "plt.rcParams['axes.unicode_minus'] = False"
   ]
  },
  {
   "cell_type": "code",
   "execution_count": 29,
   "metadata": {},
   "outputs": [
    {
     "data": {
      "text/plain": [
       "dict_keys(['兰州', '嘉峪关', '西宁', '成都', '石家庄', '拉萨', '贵阳', '武汉', '郑州', '济南', '南京', '合肥', '杭州', '南昌', '福州', '广州', '长沙', '沈阳', '长春', '哈尔滨', '太原', '西安', '北京', '上海', '重庆', '天津', '呼和浩特', '南宁', '银川', '乌鲁木齐', '香港', '澳门'])"
      ]
     },
     "execution_count": 29,
     "metadata": {},
     "output_type": "execute_result"
    }
   ],
   "source": [
    "city_info.keys()"
   ]
  },
  {
   "cell_type": "code",
   "execution_count": 30,
   "metadata": {},
   "outputs": [],
   "source": [
    "city_graph=nx.Graph() #创建一个没有节点和边的空图\n",
    "city_graph.add_nodes_from(list(city_info.keys()))"
   ]
  },
  {
   "cell_type": "code",
   "execution_count": 31,
   "metadata": {},
   "outputs": [
    {
     "data": {
      "image/png": "[encoded data removed]",
      "text/plain": [
       "<Figure size 432x288 with 1 Axes>"
      ]
     },
     "metadata": {},
     "output_type": "display_data"
    }
   ],
   "source": [
    "#画图\n",
    "nx.draw(city_graph,city_info,with_labels=True,node_size=10)"
   ]
  },
  {
   "cell_type": "code",
   "execution_count": 42,
   "metadata": {},
   "outputs": [],
   "source": [
    "threshold=700"
   ]
  },
  {
   "cell_type": "code",
   "execution_count": 43,
   "metadata": {},
   "outputs": [],
   "source": [
    "from collections import defaultdict"
   ]
  },
  {
   "cell_type": "code",
   "execution_count": 58,
   "metadata": {},
   "outputs": [],
   "source": [
    "def build_conection(city_info):\n",
    "    cities_connection=defaultdict(list)\n",
    "    cities = list(city_info.keys())\n",
    "    \n",
    "    for c1 in cities:\n",
    "        for c2 in cities:\n",
    "            if c1==c2:\n",
    "                continue\n",
    "            \n",
    "            if get_city_distance(c1,c2) < threshold:\n",
    "                cities_connection[c1].append(c2)\n",
    "    return cities_connection #注意 此处的return位置不同，得到的结果也不同，要返回所有的return"
   ]
  },
  {
   "cell_type": "code",
   "execution_count": 59,
   "metadata": {},
   "outputs": [],
   "source": [
    "cities_connection = build_conection(city_info)"
   ]
  },
  {
   "cell_type": "code",
   "execution_count": 60,
   "metadata": {},
   "outputs": [
    {
     "data": {
      "text/plain": [
       "defaultdict(list,\n",
       "            {'兰州': ['嘉峪关', '西宁', '成都', '拉萨', '贵阳', '西安', '重庆', '南宁', '银川'],\n",
       "             '嘉峪关': ['兰州', '西宁', '成都', '拉萨'],\n",
       "             '西宁': ['兰州', '嘉峪关', '成都', '拉萨', '贵阳', '重庆', '银川'],\n",
       "             '成都': ['兰州', '嘉峪关', '西宁', '拉萨', '贵阳', '西安', '重庆', '南宁', '银川'],\n",
       "             '石家庄': ['武汉',\n",
       "              '郑州',\n",
       "              '济南',\n",
       "              '南京',\n",
       "              '合肥',\n",
       "              '南昌',\n",
       "              '广州',\n",
       "              '长沙',\n",
       "              '太原',\n",
       "              '西安',\n",
       "              '北京',\n",
       "              '天津',\n",
       "              '呼和浩特'],\n",
       "             '拉萨': ['兰州', '嘉峪关', '西宁', '成都', '贵阳', '重庆', '南宁', '银川'],\n",
       "             '贵阳': ['兰州', '西宁', '成都', '拉萨', '西安', '重庆', '南宁', '银川'],\n",
       "             '武汉': ['石家庄',\n",
       "              '郑州',\n",
       "              '济南',\n",
       "              '南京',\n",
       "              '合肥',\n",
       "              '杭州',\n",
       "              '南昌',\n",
       "              '福州',\n",
       "              '广州',\n",
       "              '长沙',\n",
       "              '太原',\n",
       "              '西安',\n",
       "              '北京',\n",
       "              '天津',\n",
       "              '呼和浩特',\n",
       "              '香港',\n",
       "              '澳门'],\n",
       "             '郑州': ['石家庄',\n",
       "              '武汉',\n",
       "              '济南',\n",
       "              '南京',\n",
       "              '合肥',\n",
       "              '南昌',\n",
       "              '广州',\n",
       "              '长沙',\n",
       "              '太原',\n",
       "              '西安',\n",
       "              '北京',\n",
       "              '天津',\n",
       "              '呼和浩特',\n",
       "              '香港',\n",
       "              '澳门'],\n",
       "             '济南': ['石家庄',\n",
       "              '武汉',\n",
       "              '郑州',\n",
       "              '南京',\n",
       "              '合肥',\n",
       "              '杭州',\n",
       "              '南昌',\n",
       "              '福州',\n",
       "              '长沙',\n",
       "              '太原',\n",
       "              '北京',\n",
       "              '上海',\n",
       "              '天津',\n",
       "              '呼和浩特'],\n",
       "             '南京': ['石家庄',\n",
       "              '武汉',\n",
       "              '郑州',\n",
       "              '济南',\n",
       "              '合肥',\n",
       "              '杭州',\n",
       "              '南昌',\n",
       "              '福州',\n",
       "              '长沙',\n",
       "              '北京',\n",
       "              '上海',\n",
       "              '天津'],\n",
       "             '合肥': ['石家庄',\n",
       "              '武汉',\n",
       "              '郑州',\n",
       "              '济南',\n",
       "              '南京',\n",
       "              '杭州',\n",
       "              '南昌',\n",
       "              '福州',\n",
       "              '广州',\n",
       "              '长沙',\n",
       "              '太原',\n",
       "              '北京',\n",
       "              '上海',\n",
       "              '天津',\n",
       "              '香港',\n",
       "              '澳门'],\n",
       "             '杭州': ['武汉', '济南', '南京', '合肥', '南昌', '福州', '北京', '上海', '天津'],\n",
       "             '南昌': ['石家庄',\n",
       "              '武汉',\n",
       "              '郑州',\n",
       "              '济南',\n",
       "              '南京',\n",
       "              '合肥',\n",
       "              '杭州',\n",
       "              '福州',\n",
       "              '广州',\n",
       "              '长沙',\n",
       "              '太原',\n",
       "              '北京',\n",
       "              '上海',\n",
       "              '天津',\n",
       "              '香港',\n",
       "              '澳门'],\n",
       "             '福州': ['武汉',\n",
       "              '济南',\n",
       "              '南京',\n",
       "              '合肥',\n",
       "              '杭州',\n",
       "              '南昌',\n",
       "              '广州',\n",
       "              '上海',\n",
       "              '香港',\n",
       "              '澳门'],\n",
       "             '广州': ['石家庄',\n",
       "              '武汉',\n",
       "              '郑州',\n",
       "              '合肥',\n",
       "              '南昌',\n",
       "              '福州',\n",
       "              '长沙',\n",
       "              '太原',\n",
       "              '西安',\n",
       "              '南宁',\n",
       "              '香港',\n",
       "              '澳门'],\n",
       "             '长沙': ['石家庄',\n",
       "              '武汉',\n",
       "              '郑州',\n",
       "              '济南',\n",
       "              '南京',\n",
       "              '合肥',\n",
       "              '南昌',\n",
       "              '广州',\n",
       "              '太原',\n",
       "              '西安',\n",
       "              '北京',\n",
       "              '天津',\n",
       "              '呼和浩特',\n",
       "              '南宁',\n",
       "              '香港',\n",
       "              '澳门'],\n",
       "             '沈阳': ['长春', '哈尔滨', '上海'],\n",
       "             '长春': ['沈阳', '哈尔滨'],\n",
       "             '哈尔滨': ['沈阳', '长春'],\n",
       "             '太原': ['石家庄',\n",
       "              '武汉',\n",
       "              '郑州',\n",
       "              '济南',\n",
       "              '合肥',\n",
       "              '南昌',\n",
       "              '广州',\n",
       "              '长沙',\n",
       "              '西安',\n",
       "              '北京',\n",
       "              '天津',\n",
       "              '呼和浩特',\n",
       "              '银川',\n",
       "              '澳门'],\n",
       "             '西安': ['兰州',\n",
       "              '成都',\n",
       "              '石家庄',\n",
       "              '贵阳',\n",
       "              '武汉',\n",
       "              '郑州',\n",
       "              '广州',\n",
       "              '长沙',\n",
       "              '太原',\n",
       "              '重庆',\n",
       "              '呼和浩特',\n",
       "              '南宁',\n",
       "              '银川'],\n",
       "             '北京': ['石家庄',\n",
       "              '武汉',\n",
       "              '郑州',\n",
       "              '济南',\n",
       "              '南京',\n",
       "              '合肥',\n",
       "              '杭州',\n",
       "              '南昌',\n",
       "              '长沙',\n",
       "              '太原',\n",
       "              '天津',\n",
       "              '呼和浩特'],\n",
       "             '上海': ['济南', '南京', '合肥', '杭州', '南昌', '福州', '沈阳', '天津'],\n",
       "             '重庆': ['兰州', '西宁', '成都', '拉萨', '贵阳', '西安', '呼和浩特', '南宁', '银川'],\n",
       "             '天津': ['石家庄',\n",
       "              '武汉',\n",
       "              '郑州',\n",
       "              '济南',\n",
       "              '南京',\n",
       "              '合肥',\n",
       "              '杭州',\n",
       "              '南昌',\n",
       "              '长沙',\n",
       "              '太原',\n",
       "              '北京',\n",
       "              '上海',\n",
       "              '呼和浩特'],\n",
       "             '呼和浩特': ['石家庄',\n",
       "              '武汉',\n",
       "              '郑州',\n",
       "              '济南',\n",
       "              '长沙',\n",
       "              '太原',\n",
       "              '西安',\n",
       "              '北京',\n",
       "              '重庆',\n",
       "              '天津',\n",
       "              '银川'],\n",
       "             '南宁': ['兰州',\n",
       "              '成都',\n",
       "              '拉萨',\n",
       "              '贵阳',\n",
       "              '广州',\n",
       "              '长沙',\n",
       "              '西安',\n",
       "              '重庆',\n",
       "              '银川',\n",
       "              '香港',\n",
       "              '澳门'],\n",
       "             '银川': ['兰州',\n",
       "              '西宁',\n",
       "              '成都',\n",
       "              '拉萨',\n",
       "              '贵阳',\n",
       "              '太原',\n",
       "              '西安',\n",
       "              '重庆',\n",
       "              '呼和浩特',\n",
       "              '南宁'],\n",
       "             '香港': ['武汉', '郑州', '合肥', '南昌', '福州', '广州', '长沙', '南宁', '澳门'],\n",
       "             '澳门': ['武汉',\n",
       "              '郑州',\n",
       "              '合肥',\n",
       "              '南昌',\n",
       "              '福州',\n",
       "              '广州',\n",
       "              '长沙',\n",
       "              '太原',\n",
       "              '南宁',\n",
       "              '香港']})"
      ]
     },
     "execution_count": 60,
     "metadata": {},
     "output_type": "execute_result"
    }
   ],
   "source": [
    "cities_connection"
   ]
  },
  {
   "cell_type": "code",
   "execution_count": 61,
   "metadata": {},
   "outputs": [],
   "source": [
    "cities_connection_graph=nx.Graph(cities_connection)"
   ]
  },
  {
   "cell_type": "code",
   "execution_count": 62,
   "metadata": {},
   "outputs": [
    {
     "data": {
      "image/png": "[encoded data removed]",
      "text/plain": [
       "<Figure size 432x288 with 1 Axes>"
      ]
     },
     "metadata": {},
     "output_type": "display_data"
    }
   ],
   "source": [
    "nx.draw(cities_connection_graph,city_info,with_labels=True,node_size=10)"
   ]
  },
  {
   "cell_type": "markdown",
   "metadata": {},
   "source": [
    "\n",
    "#BFS算法\n"
   ]
  },
  {
   "cell_type": "code",
   "execution_count": 69,
   "metadata": {},
   "outputs": [],
   "source": [
    "def bfs(graph,start ,destination):\n",
    "    pathes=[[start]] #paths是要维护的搜索历史\n",
    "    visited =set()\n",
    "    \n",
    "    while pathes:\n",
    "        path =pathes.pop(0) #每次把第一条路径拿出来探索\n",
    "        froniter =path[-1] #检查path路径最后的点是否有其他点相连\n",
    "        \n",
    "        if froniter in visited:continue #如果最后的点有经历过，就跳过\n",
    "            \n",
    "        successors = graph[froniter] #将图中所有的与这个点相连的点放在successors中\n",
    "        \n",
    "        for city in successors:\n",
    "            if city in path:continue #遍历每个相连点的城市，在检查是否为环\n",
    "                \n",
    "            new_path = path + [city]\n",
    "            \n",
    "            pathes.append(new_path)  #每次有新拓展的路径  就放在之前路径的尾部\n",
    "            \n",
    "            \n",
    "           \n",
    "            \n",
    "            if city==destination:\n",
    "                return new_path #如果是我们需要的路径，如果是就返回\n",
    "        \n",
    "        visited.add(froniter)\n",
    "        \n",
    "        "
   ]
  },
  {
   "cell_type": "code",
   "execution_count": 70,
   "metadata": {},
   "outputs": [
    {
     "data": {
      "text/plain": [
       "['上海', '合肥', '香港']"
      ]
     },
     "execution_count": 70,
     "metadata": {},
     "output_type": "execute_result"
    }
   ],
   "source": [
    "bfs(cities_connection,\"上海\",\"香港\")"
   ]
  },
  {
   "cell_type": "code",
   "execution_count": 71,
   "metadata": {},
   "outputs": [
    {
     "data": {
      "text/plain": [
       "['拉萨', '兰州', '西安']"
      ]
     },
     "execution_count": 71,
     "metadata": {},
     "output_type": "execute_result"
    }
   ],
   "source": [
    "bfs(cities_connection,\"拉萨\",\"西安\")"
   ]
  },
  {
   "cell_type": "code",
   "execution_count": 79,
   "metadata": {},
   "outputs": [],
   "source": [
    "def dfs(graph,start ,destination):\n",
    "    pathes=[[start]]\n",
    "    visited =set()\n",
    "    \n",
    "    while pathes:\n",
    "        path =pathes.pop(0)\n",
    "        froniter =path[-1]\n",
    "        \n",
    "        if froniter in visited:continue\n",
    "            \n",
    "        successors = graph[froniter]\n",
    "        \n",
    "        for city in successors:\n",
    "            if city in path:continue\n",
    "                \n",
    "            new_path = path + [city] #dfs与bfs的区别：将新增的点放在维护list的前面\n",
    "            \n",
    "            pathes.append(new_path)\n",
    "            \n",
    "            \n",
    "            pathes = [new_path] + pathes\n",
    "            \n",
    "            if city==destination:\n",
    "                return new_path\n",
    "        \n",
    "        visited.add(froniter)"
   ]
  },
  {
   "cell_type": "code",
   "execution_count": 80,
   "metadata": {},
   "outputs": [
    {
     "data": {
      "text/plain": [
       "['拉萨', '银川', '南宁', '澳门', '香港', '长沙', '北京']"
      ]
     },
     "execution_count": 80,
     "metadata": {},
     "output_type": "execute_result"
    }
   ],
   "source": [
    "dfs(cities_connection,\"拉萨\",\"北京\")"
   ]
  },
  {
   "cell_type": "code",
   "execution_count": 81,
   "metadata": {},
   "outputs": [
    {
     "data": {
      "text/plain": [
       "['拉萨', '重庆', '呼和浩特', '北京']"
      ]
     },
     "execution_count": 81,
     "metadata": {},
     "output_type": "execute_result"
    }
   ],
   "source": [
    "bfs(cities_connection,\"拉萨\",\"北京\")"
   ]
  },
  {
   "cell_type": "code",
   "execution_count": 82,
   "metadata": {},
   "outputs": [
    {
     "data": {
      "text/plain": [
       "['拉萨', '银川', '西安']"
      ]
     },
     "execution_count": 82,
     "metadata": {},
     "output_type": "execute_result"
    }
   ],
   "source": [
    "dfs(cities_connection,\"拉萨\",\"西安\")"
   ]
  },
  {
   "cell_type": "code",
   "execution_count": 83,
   "metadata": {},
   "outputs": [
    {
     "data": {
      "text/plain": [
       "['拉萨', '兰州', '西安']"
      ]
     },
     "execution_count": 83,
     "metadata": {},
     "output_type": "execute_result"
    }
   ],
   "source": [
    "bfs(cities_connection,\"拉萨\",\"西安\")"
   ]
  },
  {
   "cell_type": "code",
   "execution_count": 109,
   "metadata": {},
   "outputs": [],
   "source": [
    "def bfs_2(graph,start,destination,search_strategy):\n",
    "    pathes=[[start]]\n",
    "    \n",
    "    #visite=set()\n",
    "    \n",
    "    while pathes:\n",
    "        path=pathes.pop(0)\n",
    "        froniter=path[-1]\n",
    "        \n",
    "                \n",
    "        #if froniter in visite : continue\n",
    "        \n",
    "        successors=  graph[froniter]\n",
    "        \n",
    "        for city in successors:\n",
    "            if city in path :continue\n",
    "                \n",
    "            new_path = path+[city]\n",
    "                \n",
    "            pathes.append(new_path)\n",
    "                \n",
    "        pathes = search_strategy(pathes) # 一条路经过G  不是最短的\n",
    "            \n",
    "        if pathes and pathes[0][-1] == destination: #这条路，经过重排之后是最短的，并且最后一点是终点\n",
    "            return pathes[0]                      # 经过重排 path=[]\n",
    "     #   visite.add(froniter)"
   ]
  },
  {
   "cell_type": "code",
   "execution_count": 95,
   "metadata": {},
   "outputs": [],
   "source": [
    "#排序函数\n",
    "def sort_by_distance(pathes):\n",
    "    def get_distance_of_path(path):\n",
    "        distance = 0\n",
    "        for i,_ in enumerate(path[:-1]):\n",
    "                distance +=get_city_distance(path[i],path[i+1])\n",
    "            \n",
    "        return distance\n",
    "    return sorted(pathes,key = get_distance_of_path)"
   ]
  },
  {
   "cell_type": "code",
   "execution_count": 96,
   "metadata": {},
   "outputs": [],
   "source": [
    "def get_diatance_of_path(path):\n",
    "    distance =0\n",
    "    for i,_ in enumerate(path[:-1]):\n",
    "        distance += get_city_distance(path[i],path[i+1])\n",
    "    \n",
    "    return distance"
   ]
  },
  {
   "cell_type": "code",
   "execution_count": 97,
   "metadata": {},
   "outputs": [
    {
     "data": {
      "text/plain": [
       "752.66259009181"
      ]
     },
     "execution_count": 97,
     "metadata": {},
     "output_type": "execute_result"
    }
   ],
   "source": [
    "get_diatance_of_path([\"北京\",\"济南\",\"上海\"])"
   ]
  },
  {
   "cell_type": "code",
   "execution_count": 98,
   "metadata": {},
   "outputs": [
    {
     "data": {
      "text/plain": [
       "732.5085345714293"
      ]
     },
     "execution_count": 98,
     "metadata": {},
     "output_type": "execute_result"
    }
   ],
   "source": [
    "get_diatance_of_path([\"北京\",\"天津\",\"上海\"])"
   ]
  },
  {
   "cell_type": "code",
   "execution_count": 110,
   "metadata": {},
   "outputs": [
    {
     "data": {
      "text/plain": [
       "['北京', '天津', '上海']"
      ]
     },
     "execution_count": 110,
     "metadata": {},
     "output_type": "execute_result"
    }
   ],
   "source": [
    "bfs_2(cities_connection,\"北京\",\"上海\",search_strategy=sort_by_distance)"
   ]
  },
  {
   "cell_type": "code",
   "execution_count": 111,
   "metadata": {},
   "outputs": [
    {
     "data": {
      "text/plain": [
       "['北京', '济南', '上海']"
      ]
     },
     "execution_count": 111,
     "metadata": {},
     "output_type": "execute_result"
    }
   ],
   "source": [
    "bfs(cities_connection,\"北京\",\"上海\")"
   ]
  },
  {
   "cell_type": "code",
   "execution_count": 115,
   "metadata": {},
   "outputs": [
    {
     "data": {
      "text/plain": [
       "752.66259009181"
      ]
     },
     "execution_count": 115,
     "metadata": {},
     "output_type": "execute_result"
    }
   ],
   "source": [
    "get_diatance_of_path([\"北京\",\"济南\",\"上海\"])"
   ]
  },
  {
   "cell_type": "code",
   "execution_count": null,
   "metadata": {},
   "outputs": [],
   "source": []
  },
  {
   "cell_type": "markdown",
   "metadata": {},
   "source": [
    "\n",
    "\n",
    "梯度下降\n"
   ]
  },
  {
   "cell_type": "code",
   "execution_count": 1,
   "metadata": {},
   "outputs": [],
   "source": [
    "from sklearn.datasets import load_boston #sklearn.datasets模块主要提供了一些导入、在线下载及本地生成数据集的方法\n",
    "import random"
   ]
  },
  {
   "cell_type": "code",
   "execution_count": 2,
   "metadata": {},
   "outputs": [],
   "source": [
    "dataset = load_boston()\n"
   ]
  },
  {
   "cell_type": "code",
   "execution_count": 3,
   "metadata": {},
   "outputs": [
    {
     "data": {
      "text/plain": [
       "{'data': array([[6.3200e-03, 1.8000e+01, 2.3100e+00, ..., 1.5300e+01, 3.9690e+02,\n",
       "         4.9800e+00],\n",
       "        [2.7310e-02, 0.0000e+00, 7.0700e+00, ..., 1.7800e+01, 3.9690e+02,\n",
       "         9.1400e+00],\n",
       "        [2.7290e-02, 0.0000e+00, 7.0700e+00, ..., 1.7800e+01, 3.9283e+02,\n",
       "         4.0300e+00],\n",
       "        ...,\n",
       "        [6.0760e-02, 0.0000e+00, 1.1930e+01, ..., 2.1000e+01, 3.9690e+02,\n",
       "         5.6400e+00],\n",
       "        [1.0959e-01, 0.0000e+00, 1.1930e+01, ..., 2.1000e+01, 3.9345e+02,\n",
       "         6.4800e+00],\n",
       "        [4.7410e-02, 0.0000e+00, 1.1930e+01, ..., 2.1000e+01, 3.9690e+02,\n",
       "         7.8800e+00]]),\n",
       " 'target': array([24. , 21.6, 34.7, 33.4, 36.2, 28.7, 22.9, 27.1, 16.5, 18.9, 15. ,\n",
       "        18.9, 21.7, 20.4, 18.2, 19.9, 23.1, 17.5, 20.2, 18.2, 13.6, 19.6,\n",
       "        15.2, 14.5, 15.6, 13.9, 16.6, 14.8, 18.4, 21. , 12.7, 14.5, 13.2,\n",
       "        13.1, 13.5, 18.9, 20. , 21. , 24.7, 30.8, 34.9, 26.6, 25.3, 24.7,\n",
       "        21.2, 19.3, 20. , 16.6, 14.4, 19.4, 19.7, 20.5, 25. , 23.4, 18.9,\n",
       "        35.4, 24.7, 31.6, 23.3, 19.6, 18.7, 16. , 22.2, 25. , 33. , 23.5,\n",
       "        19.4, 22. , 17.4, 20.9, 24.2, 21.7, 22.8, 23.4, 24.1, 21.4, 20. ,\n",
       "        20.8, 21.2, 20.3, 28. , 23.9, 24.8, 22.9, 23.9, 26.6, 22.5, 22.2,\n",
       "        23.6, 28.7, 22.6, 22. , 22.9, 25. , 20.6, 28.4, 21.4, 38.7, 43.8,\n",
       "        33.2, 27.5, 26.5, 18.6, 19.3, 20.1, 19.5, 19.5, 20.4, 19.8, 19.4,\n",
       "        21.7, 22.8, 18.8, 18.7, 18.5, 18.3, 21.2, 19.2, 20.4, 19.3, 22. ,\n",
       "        20.3, 20.5, 17.3, 18.8, 21.4, 15.7, 16.2, 18. , 14.3, 19.2, 19.6,\n",
       "        23. , 18.4, 15.6, 18.1, 17.4, 17.1, 13.3, 17.8, 14. , 14.4, 13.4,\n",
       "        15.6, 11.8, 13.8, 15.6, 14.6, 17.8, 15.4, 21.5, 19.6, 15.3, 19.4,\n",
       "        17. , 15.6, 13.1, 41.3, 24.3, 23.3, 27. , 50. , 50. , 50. , 22.7,\n",
       "        25. , 50. , 23.8, 23.8, 22.3, 17.4, 19.1, 23.1, 23.6, 22.6, 29.4,\n",
       "        23.2, 24.6, 29.9, 37.2, 39.8, 36.2, 37.9, 32.5, 26.4, 29.6, 50. ,\n",
       "        32. , 29.8, 34.9, 37. , 30.5, 36.4, 31.1, 29.1, 50. , 33.3, 30.3,\n",
       "        34.6, 34.9, 32.9, 24.1, 42.3, 48.5, 50. , 22.6, 24.4, 22.5, 24.4,\n",
       "        20. , 21.7, 19.3, 22.4, 28.1, 23.7, 25. , 23.3, 28.7, 21.5, 23. ,\n",
       "        26.7, 21.7, 27.5, 30.1, 44.8, 50. , 37.6, 31.6, 46.7, 31.5, 24.3,\n",
       "        31.7, 41.7, 48.3, 29. , 24. , 25.1, 31.5, 23.7, 23.3, 22. , 20.1,\n",
       "        22.2, 23.7, 17.6, 18.5, 24.3, 20.5, 24.5, 26.2, 24.4, 24.8, 29.6,\n",
       "        42.8, 21.9, 20.9, 44. , 50. , 36. , 30.1, 33.8, 43.1, 48.8, 31. ,\n",
       "        36.5, 22.8, 30.7, 50. , 43.5, 20.7, 21.1, 25.2, 24.4, 35.2, 32.4,\n",
       "        32. , 33.2, 33.1, 29.1, 35.1, 45.4, 35.4, 46. , 50. , 32.2, 22. ,\n",
       "        20.1, 23.2, 22.3, 24.8, 28.5, 37.3, 27.9, 23.9, 21.7, 28.6, 27.1,\n",
       "        20.3, 22.5, 29. , 24.8, 22. , 26.4, 33.1, 36.1, 28.4, 33.4, 28.2,\n",
       "        22.8, 20.3, 16.1, 22.1, 19.4, 21.6, 23.8, 16.2, 17.8, 19.8, 23.1,\n",
       "        21. , 23.8, 23.1, 20.4, 18.5, 25. , 24.6, 23. , 22.2, 19.3, 22.6,\n",
       "        19.8, 17.1, 19.4, 22.2, 20.7, 21.1, 19.5, 18.5, 20.6, 19. , 18.7,\n",
       "        32.7, 16.5, 23.9, 31.2, 17.5, 17.2, 23.1, 24.5, 26.6, 22.9, 24.1,\n",
       "        18.6, 30.1, 18.2, 20.6, 17.8, 21.7, 22.7, 22.6, 25. , 19.9, 20.8,\n",
       "        16.8, 21.9, 27.5, 21.9, 23.1, 50. , 50. , 50. , 50. , 50. , 13.8,\n",
       "        13.8, 15. , 13.9, 13.3, 13.1, 10.2, 10.4, 10.9, 11.3, 12.3,  8.8,\n",
       "         7.2, 10.5,  7.4, 10.2, 11.5, 15.1, 23.2,  9.7, 13.8, 12.7, 13.1,\n",
       "        12.5,  8.5,  5. ,  6.3,  5.6,  7.2, 12.1,  8.3,  8.5,  5. , 11.9,\n",
       "        27.9, 17.2, 27.5, 15. , 17.2, 17.9, 16.3,  7. ,  7.2,  7.5, 10.4,\n",
       "         8.8,  8.4, 16.7, 14.2, 20.8, 13.4, 11.7,  8.3, 10.2, 10.9, 11. ,\n",
       "         9.5, 14.5, 14.1, 16.1, 14.3, 11.7, 13.4,  9.6,  8.7,  8.4, 12.8,\n",
       "        10.5, 17.1, 18.4, 15.4, 10.8, 11.8, 14.9, 12.6, 14.1, 13. , 13.4,\n",
       "        15.2, 16.1, 17.8, 14.9, 14.1, 12.7, 13.5, 14.9, 20. , 16.4, 17.7,\n",
       "        19.5, 20.2, 21.4, 19.9, 19. , 19.1, 19.1, 20.1, 19.9, 19.6, 23.2,\n",
       "        29.8, 13.8, 13.3, 16.7, 12. , 14.6, 21.4, 23. , 23.7, 25. , 21.8,\n",
       "        20.6, 21.2, 19.1, 20.6, 15.2,  7. ,  8.1, 13.6, 20.1, 21.8, 24.5,\n",
       "        23.1, 19.7, 18.3, 21.2, 17.5, 16.8, 22.4, 20.6, 23.9, 22. , 11.9]),\n",
       " 'feature_names': array(['CRIM', 'ZN', 'INDUS', 'CHAS', 'NOX', 'RM', 'AGE', 'DIS', 'RAD',\n",
       "        'TAX', 'PTRATIO', 'B', 'LSTAT'], dtype='<U7'),\n",
       " 'DESCR': \".. _boston_dataset:\\n\\nBoston house prices dataset\\n---------------------------\\n\\n**Data Set Characteristics:**  \\n\\n    :Number of Instances: 506 \\n\\n    :Number of Attributes: 13 numeric/categorical predictive. Median Value (attribute 14) is usually the target.\\n\\n    :Attribute Information (in order):\\n        - CRIM     per capita crime rate by town\\n        - ZN       proportion of residential land zoned for lots over 25,000 sq.ft.\\n        - INDUS    proportion of non-retail business acres per town\\n        - CHAS     Charles River dummy variable (= 1 if tract bounds river; 0 otherwise)\\n        - NOX      nitric oxides concentration (parts per 10 million)\\n        - RM       average number of rooms per dwelling\\n        - AGE      proportion of owner-occupied units built prior to 1940\\n        - DIS      weighted distances to five Boston employment centres\\n        - RAD      index of accessibility to radial highways\\n        - TAX      full-value property-tax rate per $10,000\\n        - PTRATIO  pupil-teacher ratio by town\\n        - B        1000(Bk - 0.63)^2 where Bk is the proportion of blacks by town\\n        - LSTAT    % lower status of the population\\n        - MEDV     Median value of owner-occupied homes in $1000's\\n\\n    :Missing Attribute Values: None\\n\\n    :Creator: Harrison, D. and Rubinfeld, D.L.\\n\\nThis is a copy of UCI ML housing dataset.\\nhttps://archive.ics.uci.edu/ml/machine-learning-databases/housing/\\n\\n\\nThis dataset was taken from the StatLib library which is maintained at Carnegie Mellon University.\\n\\nThe Boston house-price data of Harrison, D. and Rubinfeld, D.L. 'Hedonic\\nprices and the demand for clean air', J. Environ. Economics & Management,\\nvol.5, 81-102, 1978.   Used in Belsley, Kuh & Welsch, 'Regression diagnostics\\n...', Wiley, 1980.   N.B. Various transformations are used in the table on\\npages 244-261 of the latter.\\n\\nThe Boston house-price data has been used in many machine learning papers that address regression\\nproblems.   \\n     \\n.. topic:: References\\n\\n   - Belsley, Kuh & Welsch, 'Regression diagnostics: Identifying Influential Data and Sources of Collinearity', Wiley, 1980. 244-261.\\n   - Quinlan,R. (1993). Combining Instance-Based and Model-Based Learning. In Proceedings on the Tenth International Conference of Machine Learning, 236-243, University of Massachusetts, Amherst. Morgan Kaufmann.\\n\",\n",
       " 'filename': 'D:\\\\OpenSources\\\\Anaconda3\\\\install\\\\lib\\\\site-packages\\\\sklearn\\\\datasets\\\\data\\\\boston_house_prices.csv'}"
      ]
     },
     "execution_count": 3,
     "metadata": {},
     "output_type": "execute_result"
    }
   ],
   "source": [
    "dataset"
   ]
  },
  {
   "cell_type": "code",
   "execution_count": 4,
   "metadata": {},
   "outputs": [],
   "source": [
    "x,y = dataset['data'],dataset['target']"
   ]
  },
  {
   "cell_type": "code",
   "execution_count": 5,
   "metadata": {},
   "outputs": [
    {
     "data": {
      "text/plain": [
       "array([[6.3200e-03, 1.8000e+01, 2.3100e+00, ..., 1.5300e+01, 3.9690e+02,\n",
       "        4.9800e+00],\n",
       "       [2.7310e-02, 0.0000e+00, 7.0700e+00, ..., 1.7800e+01, 3.9690e+02,\n",
       "        9.1400e+00],\n",
       "       [2.7290e-02, 0.0000e+00, 7.0700e+00, ..., 1.7800e+01, 3.9283e+02,\n",
       "        4.0300e+00],\n",
       "       ...,\n",
       "       [6.0760e-02, 0.0000e+00, 1.1930e+01, ..., 2.1000e+01, 3.9690e+02,\n",
       "        5.6400e+00],\n",
       "       [1.0959e-01, 0.0000e+00, 1.1930e+01, ..., 2.1000e+01, 3.9345e+02,\n",
       "        6.4800e+00],\n",
       "       [4.7410e-02, 0.0000e+00, 1.1930e+01, ..., 2.1000e+01, 3.9690e+02,\n",
       "        7.8800e+00]])"
      ]
     },
     "execution_count": 5,
     "metadata": {},
     "output_type": "execute_result"
    }
   ],
   "source": [
    "x\n"
   ]
  },
  {
   "cell_type": "code",
   "execution_count": 6,
   "metadata": {},
   "outputs": [
    {
     "data": {
      "text/plain": [
       "array([24. , 21.6, 34.7, 33.4, 36.2, 28.7, 22.9, 27.1, 16.5, 18.9, 15. ,\n",
       "       18.9, 21.7, 20.4, 18.2, 19.9, 23.1, 17.5, 20.2, 18.2, 13.6, 19.6,\n",
       "       15.2, 14.5, 15.6, 13.9, 16.6, 14.8, 18.4, 21. , 12.7, 14.5, 13.2,\n",
       "       13.1, 13.5, 18.9, 20. , 21. , 24.7, 30.8, 34.9, 26.6, 25.3, 24.7,\n",
       "       21.2, 19.3, 20. , 16.6, 14.4, 19.4, 19.7, 20.5, 25. , 23.4, 18.9,\n",
       "       35.4, 24.7, 31.6, 23.3, 19.6, 18.7, 16. , 22.2, 25. , 33. , 23.5,\n",
       "       19.4, 22. , 17.4, 20.9, 24.2, 21.7, 22.8, 23.4, 24.1, 21.4, 20. ,\n",
       "       20.8, 21.2, 20.3, 28. , 23.9, 24.8, 22.9, 23.9, 26.6, 22.5, 22.2,\n",
       "       23.6, 28.7, 22.6, 22. , 22.9, 25. , 20.6, 28.4, 21.4, 38.7, 43.8,\n",
       "       33.2, 27.5, 26.5, 18.6, 19.3, 20.1, 19.5, 19.5, 20.4, 19.8, 19.4,\n",
       "       21.7, 22.8, 18.8, 18.7, 18.5, 18.3, 21.2, 19.2, 20.4, 19.3, 22. ,\n",
       "       20.3, 20.5, 17.3, 18.8, 21.4, 15.7, 16.2, 18. , 14.3, 19.2, 19.6,\n",
       "       23. , 18.4, 15.6, 18.1, 17.4, 17.1, 13.3, 17.8, 14. , 14.4, 13.4,\n",
       "       15.6, 11.8, 13.8, 15.6, 14.6, 17.8, 15.4, 21.5, 19.6, 15.3, 19.4,\n",
       "       17. , 15.6, 13.1, 41.3, 24.3, 23.3, 27. , 50. , 50. , 50. , 22.7,\n",
       "       25. , 50. , 23.8, 23.8, 22.3, 17.4, 19.1, 23.1, 23.6, 22.6, 29.4,\n",
       "       23.2, 24.6, 29.9, 37.2, 39.8, 36.2, 37.9, 32.5, 26.4, 29.6, 50. ,\n",
       "       32. , 29.8, 34.9, 37. , 30.5, 36.4, 31.1, 29.1, 50. , 33.3, 30.3,\n",
       "       34.6, 34.9, 32.9, 24.1, 42.3, 48.5, 50. , 22.6, 24.4, 22.5, 24.4,\n",
       "       20. , 21.7, 19.3, 22.4, 28.1, 23.7, 25. , 23.3, 28.7, 21.5, 23. ,\n",
       "       26.7, 21.7, 27.5, 30.1, 44.8, 50. , 37.6, 31.6, 46.7, 31.5, 24.3,\n",
       "       31.7, 41.7, 48.3, 29. , 24. , 25.1, 31.5, 23.7, 23.3, 22. , 20.1,\n",
       "       22.2, 23.7, 17.6, 18.5, 24.3, 20.5, 24.5, 26.2, 24.4, 24.8, 29.6,\n",
       "       42.8, 21.9, 20.9, 44. , 50. , 36. , 30.1, 33.8, 43.1, 48.8, 31. ,\n",
       "       36.5, 22.8, 30.7, 50. , 43.5, 20.7, 21.1, 25.2, 24.4, 35.2, 32.4,\n",
       "       32. , 33.2, 33.1, 29.1, 35.1, 45.4, 35.4, 46. , 50. , 32.2, 22. ,\n",
       "       20.1, 23.2, 22.3, 24.8, 28.5, 37.3, 27.9, 23.9, 21.7, 28.6, 27.1,\n",
       "       20.3, 22.5, 29. , 24.8, 22. , 26.4, 33.1, 36.1, 28.4, 33.4, 28.2,\n",
       "       22.8, 20.3, 16.1, 22.1, 19.4, 21.6, 23.8, 16.2, 17.8, 19.8, 23.1,\n",
       "       21. , 23.8, 23.1, 20.4, 18.5, 25. , 24.6, 23. , 22.2, 19.3, 22.6,\n",
       "       19.8, 17.1, 19.4, 22.2, 20.7, 21.1, 19.5, 18.5, 20.6, 19. , 18.7,\n",
       "       32.7, 16.5, 23.9, 31.2, 17.5, 17.2, 23.1, 24.5, 26.6, 22.9, 24.1,\n",
       "       18.6, 30.1, 18.2, 20.6, 17.8, 21.7, 22.7, 22.6, 25. , 19.9, 20.8,\n",
       "       16.8, 21.9, 27.5, 21.9, 23.1, 50. , 50. , 50. , 50. , 50. , 13.8,\n",
       "       13.8, 15. , 13.9, 13.3, 13.1, 10.2, 10.4, 10.9, 11.3, 12.3,  8.8,\n",
       "        7.2, 10.5,  7.4, 10.2, 11.5, 15.1, 23.2,  9.7, 13.8, 12.7, 13.1,\n",
       "       12.5,  8.5,  5. ,  6.3,  5.6,  7.2, 12.1,  8.3,  8.5,  5. , 11.9,\n",
       "       27.9, 17.2, 27.5, 15. , 17.2, 17.9, 16.3,  7. ,  7.2,  7.5, 10.4,\n",
       "        8.8,  8.4, 16.7, 14.2, 20.8, 13.4, 11.7,  8.3, 10.2, 10.9, 11. ,\n",
       "        9.5, 14.5, 14.1, 16.1, 14.3, 11.7, 13.4,  9.6,  8.7,  8.4, 12.8,\n",
       "       10.5, 17.1, 18.4, 15.4, 10.8, 11.8, 14.9, 12.6, 14.1, 13. , 13.4,\n",
       "       15.2, 16.1, 17.8, 14.9, 14.1, 12.7, 13.5, 14.9, 20. , 16.4, 17.7,\n",
       "       19.5, 20.2, 21.4, 19.9, 19. , 19.1, 19.1, 20.1, 19.9, 19.6, 23.2,\n",
       "       29.8, 13.8, 13.3, 16.7, 12. , 14.6, 21.4, 23. , 23.7, 25. , 21.8,\n",
       "       20.6, 21.2, 19.1, 20.6, 15.2,  7. ,  8.1, 13.6, 20.1, 21.8, 24.5,\n",
       "       23.1, 19.7, 18.3, 21.2, 17.5, 16.8, 22.4, 20.6, 23.9, 22. , 11.9])"
      ]
     },
     "execution_count": 6,
     "metadata": {},
     "output_type": "execute_result"
    }
   ],
   "source": [
    "y"
   ]
  },
  {
   "cell_type": "code",
   "execution_count": 7,
   "metadata": {},
   "outputs": [
    {
     "data": {
      "text/plain": [
       "(506, 13)"
      ]
     },
     "execution_count": 7,
     "metadata": {},
     "output_type": "execute_result"
    }
   ],
   "source": [
    "x.shape #x的描述"
   ]
  },
  {
   "cell_type": "code",
   "execution_count": 9,
   "metadata": {},
   "outputs": [
    {
     "data": {
      "text/plain": [
       "array([2.7310e-02, 0.0000e+00, 7.0700e+00, 0.0000e+00, 4.6900e-01,\n",
       "       6.4210e+00, 7.8900e+01, 4.9671e+00, 2.0000e+00, 2.4200e+02,\n",
       "       1.7800e+01, 3.9690e+02, 9.1400e+00])"
      ]
     },
     "execution_count": 9,
     "metadata": {},
     "output_type": "execute_result"
    }
   ],
   "source": [
    "x.shape[1]\n",
    "x[1]"
   ]
  },
  {
   "cell_type": "code",
   "execution_count": null,
   "metadata": {},
   "outputs": [],
   "source": [
    "y.shape #y的描述"
   ]
  },
  {
   "cell_type": "code",
   "execution_count": null,
   "metadata": {},
   "outputs": [],
   "source": [
    "x[1].shape\n",
    "x[1]"
   ]
  },
  {
   "cell_type": "code",
   "execution_count": 10,
   "metadata": {},
   "outputs": [
    {
     "data": {
      "text/plain": [
       "array(['CRIM', 'ZN', 'INDUS', 'CHAS', 'NOX', 'RM', 'AGE', 'DIS', 'RAD',\n",
       "       'TAX', 'PTRATIO', 'B', 'LSTAT'], dtype='<U7')"
      ]
     },
     "execution_count": 10,
     "metadata": {},
     "output_type": "execute_result"
    }
   ],
   "source": [
    "dataset.feature_names"
   ]
  },
  {
   "cell_type": "code",
   "execution_count": 11,
   "metadata": {},
   "outputs": [
    {
     "data": {
      "text/plain": [
       "\".. _boston_dataset:\\n\\nBoston house prices dataset\\n---------------------------\\n\\n**Data Set Characteristics:**  \\n\\n    :Number of Instances: 506 \\n\\n    :Number of Attributes: 13 numeric/categorical predictive. Median Value (attribute 14) is usually the target.\\n\\n    :Attribute Information (in order):\\n        - CRIM     per capita crime rate by town\\n        - ZN       proportion of residential land zoned for lots over 25,000 sq.ft.\\n        - INDUS    proportion of non-retail business acres per town\\n        - CHAS     Charles River dummy variable (= 1 if tract bounds river; 0 otherwise)\\n        - NOX      nitric oxides concentration (parts per 10 million)\\n        - RM       average number of rooms per dwelling\\n        - AGE      proportion of owner-occupied units built prior to 1940\\n        - DIS      weighted distances to five Boston employment centres\\n        - RAD      index of accessibility to radial highways\\n        - TAX      full-value property-tax rate per $10,000\\n        - PTRATIO  pupil-teacher ratio by town\\n        - B        1000(Bk - 0.63)^2 where Bk is the proportion of blacks by town\\n        - LSTAT    % lower status of the population\\n        - MEDV     Median value of owner-occupied homes in $1000's\\n\\n    :Missing Attribute Values: None\\n\\n    :Creator: Harrison, D. and Rubinfeld, D.L.\\n\\nThis is a copy of UCI ML housing dataset.\\nhttps://archive.ics.uci.edu/ml/machine-learning-databases/housing/\\n\\n\\nThis dataset was taken from the StatLib library which is maintained at Carnegie Mellon University.\\n\\nThe Boston house-price data of Harrison, D. and Rubinfeld, D.L. 'Hedonic\\nprices and the demand for clean air', J. Environ. Economics & Management,\\nvol.5, 81-102, 1978.   Used in Belsley, Kuh & Welsch, 'Regression diagnostics\\n...', Wiley, 1980.   N.B. Various transformations are used in the table on\\npages 244-261 of the latter.\\n\\nThe Boston house-price data has been used in many machine learning papers that address regression\\nproblems.   \\n     \\n.. topic:: References\\n\\n   - Belsley, Kuh & Welsch, 'Regression diagnostics: Identifying Influential Data and Sources of Collinearity', Wiley, 1980. 244-261.\\n   - Quinlan,R. (1993). Combining Instance-Based and Model-Based Learning. In Proceedings on the Tenth International Conference of Machine Learning, 236-243, University of Massachusetts, Amherst. Morgan Kaufmann.\\n\""
      ]
     },
     "execution_count": 11,
     "metadata": {},
     "output_type": "execute_result"
    }
   ],
   "source": [
    "dataset['DESCR']"
   ]
  },
  {
   "cell_type": "code",
   "execution_count": 12,
   "metadata": {},
   "outputs": [],
   "source": [
    "X_rm=x[:,5]"
   ]
  },
  {
   "cell_type": "code",
   "execution_count": 13,
   "metadata": {},
   "outputs": [
    {
     "data": {
      "text/plain": [
       "(506,)"
      ]
     },
     "execution_count": 13,
     "metadata": {},
     "output_type": "execute_result"
    }
   ],
   "source": [
    "X_rm.shape"
   ]
  },
  {
   "cell_type": "code",
   "execution_count": 17,
   "metadata": {},
   "outputs": [
    {
     "data": {
      "text/plain": [
       "<matplotlib.collections.PathCollection at 0x27f15795e10>"
      ]
     },
     "execution_count": 17,
     "metadata": {},
     "output_type": "execute_result"
    },
    {
     "data": {
      "image/png": "[encoded data removed]",
      "text/plain": [
       "<Figure size 432x288 with 1 Axes>"
      ]
     },
     "metadata": {
      "needs_background": "light"
     },
     "output_type": "display_data"
    }
   ],
   "source": [
    "plt.scatter(X_rm,y)"
   ]
  },
  {
   "cell_type": "markdown",
   "metadata": {},
   "source": [
    "$$y=k*rm+b$$"
   ]
  },
  {
   "cell_type": "code",
   "execution_count": 22,
   "metadata": {},
   "outputs": [],
   "source": [
    "def price(rm ,k,b):\n",
    "    return k*rm+b"
   ]
  },
  {
   "cell_type": "markdown",
   "metadata": {},
   "source": [
    "$$loss = \\frac{1}{n}\\sum{(y_i-\\hat{y_i})}^2$$\n",
    "$$loss = \\frac{1}{n}\\sum{(y_i-(kx_i+b_i))}^2$$"
   ]
  },
  {
   "cell_type": "code",
   "execution_count": 35,
   "metadata": {},
   "outputs": [],
   "source": [
    "def loss(y,y_hat):\n",
    "    return sum((y_i -y_hat_i)**2 for y_i,y_hat_i in zip(list(y),list(y_hat)))/len(list(y))"
   ]
  },
  {
   "cell_type": "markdown",
   "metadata": {},
   "source": [
    "\n",
    "$$ \\frac{\\partial{loss}}{\\partial{k}} = -\\frac{2}{n}\\sum(y_i - \\hat{y_i})x_i$$\n",
    "\n",
    "$$ \\frac{\\partial{loss}}{\\partial{b}} = -\\frac{2}{n}\\sum(y_i - \\hat{y_i})$$\n"
   ]
  },
  {
   "cell_type": "code",
   "execution_count": 40,
   "metadata": {},
   "outputs": [],
   "source": [
    "def partial_derivative_k(x,y,y_hat):\n",
    "    n=len(y)\n",
    "    gradient =0\n",
    "    for x_i,y_i,y_hat_i in zip(list(x),list(y),list(y_hat)):\n",
    "        gradient += (y_i - y_hat_i) * x_i\n",
    "    return -2/n * gradient\n",
    "\n",
    "def partial_derivative_b(y,y_hat):\n",
    "    n=len(y)\n",
    "    gradient =0\n",
    "    for y_i,y_hat_i in zip(list(y),list(y_hat)):\n",
    "        gradient += (y_i - y_hat_i) \n",
    "    return -2/n *gradient"
   ]
  },
  {
   "cell_type": "code",
   "execution_count": 41,
   "metadata": {},
   "outputs": [
    {
     "name": "stdout",
     "output_type": "stream",
     "text": [
      "Iteration 0, the loss is 179168.5822412377, parameters k is 76.68522067746369 and b is -38.84113899727919\n",
      "Iteration 1, the loss is 151011.85580318092, parameters k is 71.33243505987005 and b is -39.682268256378904\n",
      "Iteration 2, the loss is 127281.15970982292, parameters k is 66.41833038514794 and b is -40.45443465583952\n",
      "Iteration 3, the loss is 107280.75453487839, parameters k is 61.906954731339454 and b is -41.1632900200576\n",
      "Iteration 4, the loss is 90424.26597421218, parameters k is 57.765302601940895 and b is -41.814022980410876\n",
      "Iteration 5, the loss is 76217.49345278223, parameters k is 53.96307345277735 and b is -42.41139693605771\n",
      "Iteration 6, the loss is 64243.92109216399, parameters k is 50.47245000871129 and b is -42.959784903674404\n",
      "Iteration 7, the loss is 54152.50624744622, parameters k is 47.26789474831699 and b is -43.463201511096116\n",
      "Iteration 8, the loss is 45647.38759633653, parameters k is 44.325963067572516 and b is -43.9253323689317\n",
      "Iteration 9, the loss is 38479.2110409856, parameters k is 41.62513175564692 and b is -44.349561035039514\n",
      "Iteration 10, the loss is 32437.81911426466, parameters k is 39.14564152788603 and b is -44.738993769140386\n",
      "Iteration 11, the loss is 27346.08955762305, parameters k is 36.86935246394475 and b is -45.09648225867608\n",
      "Iteration 12, the loss is 23054.74242920231, parameters k is 34.77961129342967 and b is -45.42464448217911\n",
      "Iteration 13, the loss is 19437.963496372387, parameters k is 32.861129558093964 and b is -45.72588386279337\n",
      "Iteration 14, the loss is 16389.71559878053, parameters k is 31.0998717592012 and b is -46.002406852075595\n",
      "Iteration 15, the loss is 13820.62983800692, parameters k is 29.482952671727343 and b is -46.25623907272343\n",
      "Iteration 16, the loss is 11655.385449348054, parameters k is 27.99854307413651 and b is -46.48924013833257\n",
      "Iteration 17, the loss is 9830.501538490098, parameters k is 26.63578320403542 and b is -46.70311725860662\n",
      "Iteration 18, the loss is 8292.475940940423, parameters k is 25.384703306535236 and b is -46.89943772955744\n",
      "Iteration 19, the loss is 6996.2166390716575, parameters k is 24.23615069404078 and b is -47.07964040007605\n",
      "Iteration 20, the loss is 5903.719748872998, parameters k is 23.181722783825705 and b is -47.245046198765294\n",
      "Iteration 21, the loss is 4982.955317463616, parameters k is 22.213705623486533 and b is -47.39686779805012\n",
      "Iteration 22, the loss is 4206.928265044348, parameters k is 21.325017454518626 and b is -47.53621848626954\n",
      "Iteration 23, the loss is 3552.886939869929, parameters k is 20.509156901116857 and b is -47.66412031265987\n",
      "Iteration 24, the loss is 3001.656082560136, parameters k is 19.760155405142466 and b is -47.781511564819034\n",
      "Iteration 25, the loss is 2537.0746435166834, parameters k is 19.0725335592633 and b is -47.88925363335832\n",
      "Iteration 26, the loss is 2145.521971308495, parameters k is 18.441261018794137 and b is -47.988137313964316\n",
      "Iteration 27, the loss is 1815.518480758961, parameters k is 17.861719698946224 and b is -48.078888592977854\n",
      "Iteration 28, the loss is 1537.3890930736652, parameters k is 17.329669988231526 and b is -48.16217395881815\n",
      "Iteration 29, the loss is 1302.9795807053529, parameters k is 16.841219730834027 and b is -48.23860527811129\n",
      "Iteration 30, the loss is 1105.4175007204456, parameters k is 16.392795751018415 and b is -48.308744272197536\n",
      "Iteration 31, the loss is 938.9107076825447, parameters k is 15.981117711244536 and b is -48.37310662676829\n",
      "Iteration 32, the loss is 798.5775388291247, parameters k is 15.603174112729674 and b is -48.43216576469934\n",
      "Iteration 33, the loss is 680.3036928898293, parameters k is 15.256200262875177 and b is -48.48635630968312\n",
      "Iteration 34, the loss is 580.6216065022032, parameters k is 14.937658048363893 and b is -48.53607726600031\n",
      "Iteration 35, the loss is 496.6087917679185, parameters k is 14.645217365945328 and b is -48.58169493769459\n",
      "Iteration 36, the loss is 425.8021543976803, parameters k is 14.376739075053434 and b is -48.623545608507506\n",
      "Iteration 37, the loss is 366.12578041372194, parameters k is 14.130259347535812 and b is -48.6619380021804\n",
      "Iteration 38, the loss is 315.8300742517178, parameters k is 13.903975299994627 and b is -48.69715554112326\n",
      "Iteration 39, the loss is 273.44046390555417, parameters k is 13.696231803623315 and b is -48.729458419975266\n",
      "Iteration 40, the loss is 237.71416924618447, parameters k is 13.50550937503786 and b is -48.75908550922748\n",
      "Iteration 41, the loss is 207.60376604288163, parameters k is 13.330413059510184 and b is -48.78625610283493\n",
      "Iteration 42, the loss is 182.22647745244507, parameters k is 13.169662225271713 and b is -48.81117152260384\n",
      "Iteration 43, the loss is 160.83829266050665, parameters k is 13.022081194220737 and b is -48.83401659109192\n",
      "Iteration 44, the loss is 142.8121538821227, parameters k is 12.886590640486414 and b is -48.85496098379768\n",
      "Iteration 45, the loss is 127.61957220548689, parameters k is 12.762199693920044 and b is -48.87416047053172\n",
      "Iteration 46, the loss is 114.8151332898324, parameters k is 12.647998690741563 and b is -48.89175805505175\n",
      "Iteration 47, the loss is 104.02343865370045, parameters k is 12.543152518303929 and b is -48.90788502129946\n",
      "Iteration 48, the loss is 94.92809969667168, parameters k is 12.446894505284686 and b is -48.9226618938933\n",
      "Iteration 49, the loss is 87.26246177995735, parameters k is 12.35852081260445 and b is -48.936199319904595\n",
      "Iteration 50, the loss is 80.80178641331716, parameters k is 12.277385284035441 and b is -48.94859887836796\n",
      "Iteration 51, the loss is 75.35666234470966, parameters k is 12.20289471882633 and b is -48.959953823448636\n",
      "Iteration 52, the loss is 70.76745237820323, parameters k is 12.134504531757253 and b is -48.970349766703855\n",
      "Iteration 53, the loss is 66.89961311128002, parameters k is 12.071714768873274 and b is -48.97986530342974\n",
      "Iteration 54, the loss is 63.63975037502136, parameters k is 12.01406644974684 and b is -48.98857258767619\n",
      "Iteration 55, the loss is 60.892294730093184, parameters k is 11.961138209508643 and b is -48.996537860136634\n",
      "Iteration 56, the loss is 58.57669955031773, parameters k is 11.912543216079523 and b is -49.00382193277483\n",
      "Iteration 57, the loss is 56.62507954690572, parameters k is 11.867926340049396 and b is -49.01048063373423\n",
      "Iteration 58, the loss is 54.980220499315905, parameters k is 11.826961556497626 and b is -49.01656521578501\n",
      "Iteration 59, the loss is 53.59390184178873, parameters k is 11.789349559746176 and b is -49.02212273129692\n",
      "Iteration 60, the loss is 52.4254829269439, parameters k is 11.754815573594723 and b is -49.027196376481484\n",
      "Iteration 61, the loss is 51.440711518345076, parameters k is 11.723107341017064 and b is -49.03182580742188\n",
      "Iteration 62, the loss is 50.61071957927229, parameters k is 11.693993278611176 and b is -49.036047430202764\n",
      "Iteration 63, the loss is 49.911176916115885, parameters k is 11.667260782300563 and b is -49.03989466726258\n",
      "Iteration 64, the loss is 49.32157786280544, parameters k is 11.642714671891198 and b is -49.04339820191713\n",
      "Iteration 65, the loss is 48.82464009320196, parameters k is 11.620175763104166 and b is -49.04658620284326\n",
      "Iteration 66, the loss is 48.40579793576116, parameters k is 11.599479556636803 and b is -49.0494845301651\n",
      "Iteration 67, the loss is 48.05277533540645, parameters k is 11.58047503466132 and b is -49.0521169246506\n",
      "Iteration 68, the loss is 47.75522594265531, parameters k is 11.563023555955892 and b is -49.054505181402476\n",
      "Iteration 69, the loss is 47.50442977808872, parameters k is 11.546997841584844 and b is -49.056669309314486\n",
      "Iteration 70, the loss is 47.29303757893575, parameters k is 11.532281043707007 and b is -49.05862767745944\n",
      "Iteration 71, the loss is 47.114855332494976, parameters k is 11.518765890699528 and b is -49.060397149480075\n",
      "Iteration 72, the loss is 46.96466267931806, parameters k is 11.506353902342704 and b is -49.06199320696598\n",
      "Iteration 73, the loss is 46.83805986207734, parameters k is 11.494954669324034 and b is -49.06343006271923\n",
      "Iteration 74, the loss is 46.73133873294632, parameters k is 11.48448519179024 and b is -49.06472076473734\n",
      "Iteration 75, the loss is 46.64137403767147, parameters k is 11.474869272107977 and b is -49.065877291674354\n",
      "Iteration 76, the loss is 46.56553178898816, parameters k is 11.466036957390612 and b is -49.0669106404785\n",
      "Iteration 77, the loss is 46.50159204306268, parameters k is 11.457924027712487 and b is -49.06783090684745\n",
      "Iteration 78, the loss is 46.44768381490884, parameters k is 11.450471526266389 and b is -49.06864735908999\n",
      "Iteration 79, the loss is 46.40223022462318, parameters k is 11.443625328026771 and b is -49.06936850593432\n",
      "Iteration 80, the loss is 46.363902266228706, parameters k is 11.43733574376301 and b is -49.070002158779204\n",
      "Iteration 81, the loss is 46.33157984371566, parameters k is 11.431557156505596 and b is -49.070555488843304\n",
      "Iteration 82, the loss is 46.30431893193134, parameters k is 11.426247687805597 and b is -49.0710350796309\n",
      "Iteration 83, the loss is 46.28132389953555, parameters k is 11.421368891345693 and b is -49.071446975097786\n",
      "Iteration 84, the loss is 46.261924182584714, parameters k is 11.416885471661192 and b is -49.07179672386973\n",
      "Iteration 85, the loss is 46.2455546248566, parameters k is 11.412765025913163 and b is -49.07208941983709\n",
      "Iteration 86, the loss is 46.23173890853145, parameters k is 11.408977806824437 and b is -49.072329739422436\n",
      "Iteration 87, the loss is 46.22007558944847, parameters k is 11.405496505044102 and b is -49.072521975793975\n",
      "Iteration 88, the loss is 46.210226327517255, parameters k is 11.40229604934823 and b is -49.07267007027501\n",
      "Iteration 89, the loss is 46.2019059672216, parameters k is 11.399353423215066 and b is -49.072777641179236\n",
      "Iteration 90, the loss is 46.19487417739592, parameters k is 11.396647496432735 and b is -49.07284801028288\n",
      "Iteration 91, the loss is 46.188928405166585, parameters k is 11.394158870507459 and b is -49.07288422712731\n",
      "Iteration 92, the loss is 46.183897937482286, parameters k is 11.391869736741295 and b is -49.07288909132991\n",
      "Iteration 93, the loss is 46.179638896128104, parameters k is 11.389763745941053 and b is -49.072865173066546\n",
      "Iteration 94, the loss is 46.17603001948663, parameters k is 11.387825888805155 and b is -49.0728148318753\n",
      "Iteration 95, the loss is 46.172969107375124, parameters k is 11.386042386113362 and b is -49.07274023391925\n",
      "Iteration 96, the loss is 46.170370024727795, parameters k is 11.384400587915938 and b is -49.07264336783442\n",
      "Iteration 97, the loss is 46.16816017627815, parameters k is 11.382888880984744 and b is -49.072526059278935\n",
      "Iteration 98, the loss is 46.1662783782013, parameters k is 11.381496603849127 and b is -49.072389984289835\n",
      "Iteration 99, the loss is 46.16467306432026, parameters k is 11.380213968795013 and b is -49.07223668154519\n",
      "Iteration 100, the loss is 46.163300774281474, parameters k is 11.37903199025654 and b is -49.0720675636213\n",
      "Iteration 101, the loss is 46.16212487937956, parameters k is 11.377942419076314 and b is -49.07188392732732\n",
      "Iteration 102, the loss is 46.161114508672085, parameters k is 11.376937682153352 and b is -49.07168696319292\n",
      "Iteration 103, the loss is 46.16024364390189, parameters k is 11.376010827037144 and b is -49.07147776417835\n",
      "Iteration 104, the loss is 46.15949035669043, parameters k is 11.37515547106249 and b is -49.07125733367074\n",
      "Iteration 105, the loss is 46.158836165638924, parameters k is 11.374365754652976 and b is -49.071026592825\n",
      "Iteration 106, the loss is 46.158265494488624, parameters k is 11.373636298451435 and b is -49.070786387303144\n",
      "Iteration 107, the loss is 46.15776521545406, parameters k is 11.372962163963779 and b is -49.07053749346128\n",
      "Iteration 108, the loss is 46.15732426434113, parameters k is 11.372338817428227 and b is -49.07028062402953\n",
      "Iteration 109, the loss is 46.15693331616557, parameters k is 11.371762096645643 and b is -49.0700164333265\n",
      "Iteration 110, the loss is 46.15658451176191, parameters k is 11.37122818052826 and b is -49.069745522046354\n",
      "Iteration 111, the loss is 46.156271227367874, parameters k is 11.370733561144036 and b is -49.069468441653584\n",
      "Iteration 112, the loss is 46.1559878804279, parameters k is 11.3702750180521 and b is -49.06918569841762\n",
      "Iteration 113, the loss is 46.155729765922885, parameters k is 11.36984959474153 and b is -49.06889775711676\n",
      "Iteration 114, the loss is 46.15549291842805, parameters k is 11.369454577001074 and b is -49.06860504443856\n",
      "Iteration 115, the loss is 46.15527399585441, parameters k is 11.369087473061583 and b is -49.06830795210158\n",
      "Iteration 116, the loss is 46.15507018146463, parameters k is 11.368745995365853 and b is -49.06800683972118\n",
      "Iteration 117, the loss is 46.15487910129178, parameters k is 11.368428043832518 and b is -49.067702037440604\n",
      "Iteration 118, the loss is 46.1546987545389, parameters k is 11.368131690491541 and b is -49.06739384834631\n",
      "Iteration 119, the loss is 46.15452745491974, parameters k is 11.367855165378902 and b is -49.06708255068541\n",
      "Iteration 120, the loss is 46.15436378121964, parameters k is 11.367596843587272 and b is -49.06676839990137\n",
      "Iteration 121, the loss is 46.15420653562848, parameters k is 11.367355233377953 and b is -49.06645163050287\n",
      "Iteration 122, the loss is 46.154054708623086, parameters k is 11.3671289652671 and b is -49.0661324577795\n",
      "Iteration 123, the loss is 46.1539074493697, parameters k is 11.366916782006363 and b is -49.065811079376886\n",
      "Iteration 124, the loss is 46.15376404077944, parameters k is 11.366717529384681 and b is -49.065487676742634\n",
      "Iteration 125, the loss is 46.15362387848451, parameters k is 11.3665301477839 and b is -49.0651624164539\n",
      "Iteration 126, the loss is 46.15348645311917, parameters k is 11.366353664426441 and b is -49.06483545143604\n",
      "Iteration 127, the loss is 46.15335133538615, parameters k is 11.36618718625833 and b is -49.064506922081456\n",
      "Iteration 128, the loss is 46.15321816347068, parameters k is 11.366029893415465 and b is -49.06417695727674\n",
      "Iteration 129, the loss is 46.15308663243239, parameters k is 11.365881033225385 and b is -49.063845675345625\n",
      "Iteration 130, the loss is 46.15295648526537, parameters k is 11.365739914700594 and b is -49.063513184914626\n",
      "Iteration 131, the loss is 46.15282750536301, parameters k is 11.365605903483202 and b is -49.06317958570782\n",
      "Iteration 132, the loss is 46.152699510167615, parameters k is 11.36547841720386 and b is -49.06284496927642\n",
      "Iteration 133, the loss is 46.1525723458183, parameters k is 11.365356921221068 and b is -49.06250941966857\n",
      "Iteration 134, the loss is 46.152445882639796, parameters k is 11.365240924709655 and b is -49.062173014044276\n",
      "Iteration 135, the loss is 46.152320011340954, parameters k is 11.365129977069827 and b is -49.0618358232399\n",
      "Iteration 136, the loss is 46.15219463981013, parameters k is 11.365023664630517 and b is -49.061497912286434\n",
      "Iteration 137, the loss is 46.15206969041504, parameters k is 11.364921607622898 and b is -49.06115934088525\n",
      "Iteration 138, the loss is 46.15194509772662, parameters k is 11.364823457401949 and b is -49.0608201638449\n",
      "Iteration 139, the loss is 46.15182080660054, parameters k is 11.364728893895707 and b is -49.060480431482134\n",
      "Iteration 140, the loss is 46.151696770560974, parameters k is 11.36463762326358 and b is -49.060140189989966\n",
      "Iteration 141, the loss is 46.151572950437505, parameters k is 11.364549375746558 and b is -49.05979948177567\n",
      "Iteration 142, the loss is 46.151449313217, parameters k is 11.364463903693622 and b is -49.05945834577105\n",
      "Iteration 143, the loss is 46.151325831075816, parameters k is 11.364380979749894 and b is -49.059116817717225\n",
      "Iteration 144, the loss is 46.15120248056383, parameters k is 11.364300395193268 and b is -49.058774930426175\n",
      "Iteration 145, the loss is 46.151079241917145, parameters k is 11.364221958407377 and b is -49.05843271402075\n",
      "Iteration 146, the loss is 46.1509560984784, parameters k is 11.36414549347969 and b is -49.0580901961551\n",
      "Iteration 147, the loss is 46.150833036208795, parameters k is 11.364070838914516 and b is -49.05774740221695\n",
      "Iteration 148, the loss is 46.150710043276135, parameters k is 11.363997846451479 and b is -49.05740435551338\n",
      "Iteration 149, the loss is 46.15058710970827, parameters k is 11.363926379980818 and b is -49.05706107744133\n",
      "Iteration 150, the loss is 46.15046422710046, parameters k is 11.36385631454759 and b is -49.05671758764415\n",
      "Iteration 151, the loss is 46.15034138836899, parameters k is 11.363787535437485 and b is -49.0563739041553\n",
      "Iteration 152, the loss is 46.15021858754381, parameters k is 11.363719937337555 and b is -49.056030043530306\n",
      "Iteration 153, the loss is 46.15009581959302, parameters k is 11.36365342356573 and b is -49.055686020967876\n",
      "Iteration 154, the loss is 46.14997308027596, parameters k is 11.363587905363476 and b is -49.055341850421094\n",
      "Iteration 155, the loss is 46.149850366018256, parameters k is 11.36352330124643 and b is -49.05499754469952\n",
      "Iteration 156, the loss is 46.14972767380757, parameters k is 11.363459536408241 and b is -49.05465311556287\n",
      "Iteration 157, the loss is 46.14960500110481, parameters k is 11.363396542173286 and b is -49.054308573807106\n",
      "Iteration 158, the loss is 46.1494823457702, parameters k is 11.363334255494216 and b is -49.05396392934338\n",
      "Iteration 159, the loss is 46.14935970600013, parameters k is 11.363272618490706 and b is -49.05361919127058\n",
      "Iteration 160, the loss is 46.14923708027447, parameters k is 11.363211578025982 and b is -49.05327436794185\n",
      "Iteration 161, the loss is 46.14911446731199, parameters k is 11.363151085318076 and b is -49.05292946702578\n",
      "Iteration 162, the loss is 46.14899186603296, parameters k is 11.36309109558292 and b is -49.05258449556243\n",
      "Iteration 163, the loss is 46.14886927552714, parameters k is 11.363031567706704 and b is -49.0522394600149\n",
      "Iteration 164, the loss is 46.148746695027384, parameters k is 11.362972463945084 and b is -49.051894366316596\n",
      "Iteration 165, the loss is 46.1486241238872, parameters k is 11.362913749647035 and b is -49.05154921991462\n",
      "Iteration 166, the loss is 46.14850156156151, parameters k is 11.36285539300134 and b is -49.05120402580966\n",
      "Iteration 167, the loss is 46.148379007591075, parameters k is 11.362797364803853 and b is -49.05085878859254\n",
      "Iteration 168, the loss is 46.148256461588545, parameters k is 11.362739638243845 and b is -49.05051351247785\n",
      "Iteration 169, the loss is 46.148133923227554, parameters k is 11.362682188707842 and b is -49.050168201334735\n",
      "Iteration 170, the loss is 46.1480113922331, parameters k is 11.362624993599557 and b is -49.04982285871525\n",
      "Iteration 171, the loss is 46.147888868373165, parameters k is 11.362568032174568 and b is -49.04947748788032\n",
      "Iteration 172, the loss is 46.14776635145227, parameters k is 11.362511285388555 and b is -49.049132091823594\n",
      "Iteration 173, the loss is 46.147643841305666, parameters k is 11.362454735757964 and b is -49.04878667329338\n",
      "Iteration 174, the loss is 46.14752133779429, parameters k is 11.362398367232094 and b is -49.048441234812714\n",
      "Iteration 175, the loss is 46.14739884080097, parameters k is 11.362342165075672 and b is -49.048095778697856\n",
      "Iteration 176, the loss is 46.14727635022703, parameters k is 11.362286115761044 and b is -49.04775030707522\n",
      "Iteration 177, the loss is 46.1471538659891, parameters k is 11.36223020686921 and b is -49.04740482189693\n",
      "Iteration 178, the loss is 46.14703138801686, parameters k is 11.36217442699896 and b is -49.047059324955114\n",
      "Iteration 179, the loss is 46.14690891625124, parameters k is 11.362118765683462 and b is -49.046713817895\n",
      "Iteration 180, the loss is 46.146786450642125, parameters k is 11.362063213313688 and b is -49.046368302226966\n",
      "Iteration 181, the loss is 46.14666399114736, parameters k is 11.36200776106811 and b is -49.046022779337605\n",
      "Iteration 182, the loss is 46.14654153773141, parameters k is 11.361952400848166 and b is -49.04567725049984\n",
      "Iteration 183, the loss is 46.14641909036418, parameters k is 11.361897125219 and b is -49.045331716882274\n",
      "Iteration 184, the loss is 46.14629664902029, parameters k is 11.361841927355078 and b is -49.0449861795577\n",
      "Iteration 185, the loss is 46.14617421367837, parameters k is 11.361786800990247 and b is -49.04464063951098\n",
      "Iteration 186, the loss is 46.146051784320306, parameters k is 11.36173174037189 and b is -49.04429509764626\n",
      "Iteration 187, the loss is 46.1459293609309, parameters k is 11.361676740218844 and b is -49.04394955479356\n",
      "Iteration 188, the loss is 46.14580694349708, parameters k is 11.361621795682755 and b is -49.04360401171486\n",
      "Iteration 189, the loss is 46.145684532007934, parameters k is 11.361566902312614 and b is -49.04325846910968\n",
      "Iteration 190, the loss is 46.14556212645425, parameters k is 11.361512056022189 and b is -49.042912927620186\n",
      "Iteration 191, the loss is 46.145439726828094, parameters k is 11.36145725306013 and b is -49.0425673878359\n",
      "Iteration 192, the loss is 46.14531733312278, parameters k is 11.36140248998253 and b is -49.04222185029803\n",
      "Iteration 193, the loss is 46.145194945332726, parameters k is 11.361347763627716 and b is -49.04187631550339\n",
      "Iteration 194, the loss is 46.1450725634531, parameters k is 11.361293071093131 and b is -49.04153078390807\n",
      "Iteration 195, the loss is 46.14495018747977, parameters k is 11.361238409714092 and b is -49.041185255930785\n",
      "Iteration 196, the loss is 46.144827817409215, parameters k is 11.361183777044296 and b is -49.040839731955884\n",
      "Iteration 197, the loss is 46.14470545323849, parameters k is 11.361129170837923 and b is -49.04049421233622\n",
      "Iteration 198, the loss is 46.14458309496496, parameters k is 11.361074589033208 and b is -49.040148697395715\n",
      "Iteration 199, the loss is 46.14446074258647, parameters k is 11.361020029737352 and b is -49.039803187431716\n"
     ]
    }
   ],
   "source": [
    "#initialized parameters\n",
    "\n",
    "k = random.random() * 200 - 100  # -100 100\n",
    "b = random.random() * 200 - 100  # -100 100\n",
    "\n",
    "learning_rate = 1e-3\n",
    "\n",
    "iteration_num = 200 \n",
    "losses = []\n",
    "for i in range(iteration_num):\n",
    "    \n",
    "    price_use_current_parameters = [price(r, k, b) for r in X_rm]  # \\hat{y}\n",
    "    \n",
    "    current_loss = loss(y, price_use_current_parameters)\n",
    "    losses.append(current_loss)\n",
    "    print(\"Iteration {}, the loss is {}, parameters k is {} and b is {}\".format(i,current_loss,k,b))\n",
    "    \n",
    "    k_gradient = partial_derivative_k(X_rm, y, price_use_current_parameters)\n",
    "    b_gradient = partial_derivative_b(y, price_use_current_parameters)\n",
    "    \n",
    "    k = k + (-1 * k_gradient) * learning_rate\n",
    "    b = b + (-1 * b_gradient) * learning_rate\n",
    "best_k = k\n",
    "best_b = b"
   ]
  },
  {
   "cell_type": "code",
   "execution_count": 42,
   "metadata": {},
   "outputs": [
    {
     "data": {
      "text/plain": [
       "[<matplotlib.lines.Line2D at 0x27f16aac0f0>]"
      ]
     },
     "execution_count": 42,
     "metadata": {},
     "output_type": "execute_result"
    },
    {
     "data": {
      "image/png": "[encoded data removed]",
      "text/plain": [
       "<Figure size 432x288 with 1 Axes>"
      ]
     },
     "metadata": {
      "needs_background": "light"
     },
     "output_type": "display_data"
    }
   ],
   "source": [
    "plt.plot(list(range(iteration_num)),losses)"
   ]
  },
  {
   "cell_type": "code",
   "execution_count": 43,
   "metadata": {},
   "outputs": [
    {
     "data": {
      "text/plain": [
       "<matplotlib.collections.PathCollection at 0x27f16b19588>"
      ]
     },
     "execution_count": 43,
     "metadata": {},
     "output_type": "execute_result"
    },
    {
     "data": {
      "image/png": "[encoded data removed]",
      "text/plain": [
       "<Figure size 432x288 with 1 Axes>"
      ]
     },
     "metadata": {
      "needs_background": "light"
     },
     "output_type": "display_data"
    }
   ],
   "source": [
    "\n",
    "\n",
    "price_use_best_parameters = [price(r, best_k, best_b) for r in X_rm]\n",
    "\n",
    "plt.scatter(X_rm,y)\n",
    "plt.scatter(X_rm,price_use_current_parameters)\n",
    "\n"
   ]
  },
  {
   "cell_type": "markdown",
   "metadata": {},
   "source": [
    "   \n",
    "   \n",
    "# 问答作业\n",
    "\n"
   ]
  },
  {
   "cell_type": "code",
   "execution_count": null,
   "metadata": {},
   "outputs": [],
   "source": [
    "What conditions are required to make the BFS return the optimal solution ?"
   ]
  },
  {
   "cell_type": "markdown",
   "metadata": {},
   "source": [
    "是BFS返回最优的解，需要一个队列，将其是节点放入队列的尾部，在队列不为空的情况下取出并删除队列首节点并处理，再将该节点相邻的未处理的节点加入到队列的尾部"
   ]
  },
  {
   "cell_type": "code",
   "execution_count": null,
   "metadata": {},
   "outputs": [],
   "source": [
    "Is there a way to make DFS find the optimal solution ? (You may need to read some material about iterative DFS)"
   ]
  },
  {
   "cell_type": "code",
   "execution_count": null,
   "metadata": {},
   "outputs": [],
   "source": [
    "有方法\n",
    "迭代加深搜索算法：\n",
    "    就是仿广度优先搜索的深度优先搜索，既能满足深度优先搜索的线性存储要求，又能保证发现一个最小深度的目标结点。迭代加深搜索并不比广度优先搜索慢很多，但是空间复杂度却与深度优先搜索相同，比广度优先搜索小很多。"
   ]
  },
  {
   "cell_type": "code",
   "execution_count": null,
   "metadata": {},
   "outputs": [],
   "source": [
    "In what conditions BFS is a better choice than DFS and vice versa ?"
   ]
  },
  {
   "cell_type": "markdown",
   "metadata": {},
   "source": [
    "在搜索路径上：BFS是用来搜索最短径路的解是比较合适的,DFS适合搜索全部的解。\n",
    "\n",
    "因为BFS搜索过程中遇到的解一定是离根最近的，所以遇到一个解，一定就是最优解，此时算法可以终止。因为DFS搜索到的解不一定是离根最近的，只有全局搜索完毕，才能从所有解中找出离根的最近的解\n",
    "\n",
    "在空间上：DFS不需要保存搜索过程中的状态，而BFS在搜索过程中需要保存搜索过的状态，而且一般情况需要一个队列来记录"
   ]
  },
  {
   "cell_type": "code",
   "execution_count": null,
   "metadata": {},
   "outputs": [],
   "source": [
    " When can we use machine learning ?"
   ]
  },
  {
   "cell_type": "code",
   "execution_count": null,
   "metadata": {},
   "outputs": [],
   "source": [
    "机器学习要发现的是资料中存在的模式，机器学习中目标函数非常重要.当模式相对复杂,人们无法直接定义规则的时候才比较适合使用机器学习"
   ]
  },
  {
   "cell_type": "code",
   "execution_count": null,
   "metadata": {},
   "outputs": [],
   "source": [
    "What is the gradient of a function ?"
   ]
  },
  {
   "cell_type": "code",
   "execution_count": null,
   "metadata": {},
   "outputs": [],
   "source": [
    "表示某一函数在该点处的方向导数沿着该方向取得最大值，即函数在该点处沿着该方向变化最快，变化率最大"
   ]
  },
  {
   "cell_type": "code",
   "execution_count": null,
   "metadata": {},
   "outputs": [],
   "source": [
    "How can we find the maximum value of a function using the information of gradient ?¶"
   ]
  },
  {
   "cell_type": "code",
   "execution_count": null,
   "metadata": {},
   "outputs": [],
   "source": [
    "利用梯度下降法得到函数的极小值的方法，在将原函数原函数取负值，求极小值最后在去相反数"
   ]
  },
  {
   "cell_type": "markdown",
   "metadata": {},
   "source": [
    "# 编程题没时间做\n",
    "\n"
   ]
  },
  {
   "cell_type": "code",
   "execution_count": null,
   "metadata": {},
   "outputs": [],
   "source": []
  }
 ],
 "metadata": {
  "kernelspec": {
   "display_name": "Python 3",
   "language": "python",
   "name": "python3"
  },
  "language_info": {
   "codemirror_mode": {
    "name": "ipython",
    "version": 3
   },
   "file_extension": ".py",
   "mimetype": "text/x-python",
   "name": "python",
   "nbconvert_exporter": "python",
   "pygments_lexer": "ipython3",
   "version": "3.7.3"
  }
 },
 "nbformat": 4,
 "nbformat_minor": 2
}
